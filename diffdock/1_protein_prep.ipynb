{
 "cells": [
  {
   "cell_type": "markdown",
   "id": "1777e530-17c6-4697-9c3b-c5432ce8506f",
   "metadata": {},
   "source": [
    "# Protein Preparation\n",
    "\n",
    "Unlike traditional physics-based methods, DiffDock does not take a receptor as input. It just takes the protein and ligand coordinates, and can find the binding site quite effectively. The only (optional) 'preparation' step is the pre-generation of ESM2 embeddings of the protein, which helps with faster runtime. However, in our case, we have to cleanup the PDB a bit.\n",
    "\n",
    "DiffDock expects the residues to be numbered sequentially in the PDB. However, the PDB from the database uses chymotrypsinogen numbering, and so the residues are renumbered."
   ]
  },
  {
   "cell_type": "code",
   "execution_count": 1,
   "id": "d714cf4d-8a15-4aa6-99e1-9563cf552d6b",
   "metadata": {},
   "outputs": [
    {
     "name": "stderr",
     "output_type": "stream",
     "text": [
      "/Users/vbf/Library/Python/3.9/lib/python/site-packages/Bio/PDB/PDBParser.py:395: PDBConstructionWarning: Ignoring unrecognized record 'END' at line 4729\n",
      "  warnings.warn(\n"
     ]
    }
   ],
   "source": [
    "from Bio.PDB import PDBParser, PDBIO, Model, Chain, Residue\n",
    "\n",
    "parser = PDBParser()\n",
    "structure = parser.get_structure(\"prt\", \"../vina/1ppb_cleaned.pdb\")\n",
    "\n",
    "model = next(structure.get_models())  # usually one model\n",
    "io = PDBIO()\n",
    "\n",
    "# Create a new model to store renumbered residues\n",
    "new_model = Model.Model(0)\n",
    "\n",
    "for chain in model:\n",
    "    new_chain = Chain.Chain(chain.id)\n",
    "    new_res_id = 1\n",
    "    for residue in chain:\n",
    "        hetflag, resseq, icode = residue.id\n",
    "        if hetflag == \" \":  # skip heteroatoms like water/ligands if desired\n",
    "            new_residue = Residue.Residue(\n",
    "                (\" \", new_res_id, \" \"), residue.resname, residue.segid\n",
    "            )\n",
    "            # copy atoms to the new residue\n",
    "            for atom in residue:\n",
    "                new_residue.add(atom.copy())\n",
    "            new_chain.add(new_residue)\n",
    "            new_res_id += 1\n",
    "        else:\n",
    "            # optional: keep hetero residues (ligands, water) unchanged\n",
    "            new_chain.add(residue.copy())\n",
    "    new_model.add(new_chain)\n",
    "\n",
    "# Save new structure\n",
    "io.set_structure(new_model)\n",
    "io.save(\"1ppb.pdb\")"
   ]
  },
  {
   "cell_type": "code",
   "execution_count": null,
   "id": "68f08bd9-5271-4f34-a730-8340bc8af406",
   "metadata": {},
   "outputs": [],
   "source": []
  }
 ],
 "metadata": {
  "kernelspec": {
   "display_name": "Python 3 (ipykernel)",
   "language": "python",
   "name": "python3"
  },
  "language_info": {
   "codemirror_mode": {
    "name": "ipython",
    "version": 3
   },
   "file_extension": ".py",
   "mimetype": "text/x-python",
   "name": "python",
   "nbconvert_exporter": "python",
   "pygments_lexer": "ipython3",
   "version": "3.9.6"
  }
 },
 "nbformat": 4,
 "nbformat_minor": 5
}
