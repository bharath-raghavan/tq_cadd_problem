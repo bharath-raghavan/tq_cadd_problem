{
 "cells": [
  {
   "cell_type": "markdown",
   "id": "2b5ced7b-c4df-4b0a-888f-0c71ccff0ccc",
   "metadata": {},
   "source": [
    "# Compare RMSD of DiffDock pose with Crystal Structure\n",
    "\n",
    "Having redocked the co-ligand into the protein with DiffDock, we can write a quick code to caluclate the RMSD with the crystal structure.\n",
    "\n",
    "Load the crystal structure of the co-ligand into RDKit:"
   ]
  },
  {
   "cell_type": "code",
   "execution_count": 1,
   "id": "c7bcf746-50c5-43d4-9746-285aedc89860",
   "metadata": {},
   "outputs": [],
   "source": [
    "from rdkit import Chem\n",
    "\n",
    "mol_original = Chem.SDMolSupplier(\"../../vina/0G6_H.sdf\")[0]"
   ]
  },
  {
   "cell_type": "markdown",
   "id": "f98739d9-2a2e-401e-8983-4eacce8115bf",
   "metadata": {},
   "source": [
    "DiffDock writes its most highly ranked pose as `rank1.sdf`. Load it into RDKit:"
   ]
  },
  {
   "cell_type": "code",
   "execution_count": 2,
   "id": "3a0d4488-2dfa-48e3-bed0-40f3440c656a",
   "metadata": {},
   "outputs": [],
   "source": [
    "mol = Chem.SDMolSupplier(\"complex_0/rank1.sdf\")[0]"
   ]
  },
  {
   "cell_type": "markdown",
   "id": "4be8773e-fd46-45dd-92df-33fb96c82416",
   "metadata": {},
   "source": [
    "Calculate the RMSD between the two molecules:"
   ]
  },
  {
   "cell_type": "code",
   "execution_count": 3,
   "id": "374df50d-355c-44cf-850d-0c5f9b7ffe34",
   "metadata": {},
   "outputs": [
    {
     "data": {
      "text/plain": [
       "0.6159669260436814"
      ]
     },
     "execution_count": 3,
     "metadata": {},
     "output_type": "execute_result"
    }
   ],
   "source": [
    "from rdkit.Chem import AllChem\n",
    "AllChem.GetBestRMS(mol_original, mol)"
   ]
  },
  {
   "cell_type": "markdown",
   "id": "1ef4fef1-039e-4a9d-9887-e6d7ec61ea5f",
   "metadata": {},
   "source": [
    "The low confirms that DiffDock is able to reproduce the crystal structure pose."
   ]
  },
  {
   "cell_type": "code",
   "execution_count": null,
   "id": "49f3a5da-9818-4b4b-9539-56b35af49225",
   "metadata": {},
   "outputs": [],
   "source": []
  }
 ],
 "metadata": {
  "kernelspec": {
   "display_name": "Python 3 (ipykernel)",
   "language": "python",
   "name": "python3"
  },
  "language_info": {
   "codemirror_mode": {
    "name": "ipython",
    "version": 3
   },
   "file_extension": ".py",
   "mimetype": "text/x-python",
   "name": "python",
   "nbconvert_exporter": "python",
   "pygments_lexer": "ipython3",
   "version": "3.9.6"
  }
 },
 "nbformat": 4,
 "nbformat_minor": 5
}
