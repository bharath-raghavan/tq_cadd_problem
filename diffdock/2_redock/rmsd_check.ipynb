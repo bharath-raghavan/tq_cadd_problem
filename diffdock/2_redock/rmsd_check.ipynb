{
 "cells": [
  {
   "cell_type": "code",
   "execution_count": 1,
   "id": "c7bcf746-50c5-43d4-9746-285aedc89860",
   "metadata": {},
   "outputs": [],
   "source": [
    "from rdkit import Chem\n",
    "\n",
    "mol_original = Chem.SDMolSupplier(\"../../vina/0G6_H.sdf\")[0]"
   ]
  },
  {
   "cell_type": "code",
   "execution_count": 2,
   "id": "3a0d4488-2dfa-48e3-bed0-40f3440c656a",
   "metadata": {},
   "outputs": [],
   "source": [
    "mol = Chem.SDMolSupplier(\"complex_0/rank1.sdf\")[0]"
   ]
  },
  {
   "cell_type": "code",
   "execution_count": 3,
   "id": "374df50d-355c-44cf-850d-0c5f9b7ffe34",
   "metadata": {},
   "outputs": [
    {
     "data": {
      "text/plain": [
       "0.6159669260436814"
      ]
     },
     "execution_count": 3,
     "metadata": {},
     "output_type": "execute_result"
    }
   ],
   "source": [
    "from rdkit.Chem import AllChem\n",
    "AllChem.GetBestRMS(mol_original, mol)"
   ]
  },
  {
   "cell_type": "code",
   "execution_count": null,
   "id": "68f08bd9-5271-4f34-a730-8340bc8af406",
   "metadata": {},
   "outputs": [],
   "source": []
  }
 ],
 "metadata": {
  "kernelspec": {
   "display_name": "Python 3 (ipykernel)",
   "language": "python",
   "name": "python3"
  },
  "language_info": {
   "codemirror_mode": {
    "name": "ipython",
    "version": 3
   },
   "file_extension": ".py",
   "mimetype": "text/x-python",
   "name": "python",
   "nbconvert_exporter": "python",
   "pygments_lexer": "ipython3",
   "version": "3.9.6"
  }
 },
 "nbformat": 4,
 "nbformat_minor": 5
}
