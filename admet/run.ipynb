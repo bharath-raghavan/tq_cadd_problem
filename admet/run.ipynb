{
 "cells": [
  {
   "cell_type": "markdown",
   "id": "b4696472-ce5e-4782-bdf3-739ed7b8d23b",
   "metadata": {},
   "source": [
    "# ADMET Analysis\n",
    "\n",
    "Measuring the Absorption, Distribution, Metabolism, Excretion, and Toxicity metrics for the docked compounds is crucial to assess the chances of success or failure of the compounds in clinical trials. To estimate this, I use [ADMET AI](https://admet.ai.greenstonebio.com). The results include a radila plot and a `.csv` file with the predicted properties.\n",
    "\n",
    "Load the results in a DataFrame:"
   ]
  },
  {
   "cell_type": "code",
   "execution_count": 1,
   "id": "259c39ad-de1c-44f2-b818-0ef07dcb9894",
   "metadata": {},
   "outputs": [],
   "source": [
    "import pandas as pd\n",
    "\n",
    "df = pd.read_csv('admet_ai_output.csv')\n",
    "df.index = df.index+1"
   ]
  },
  {
   "cell_type": "markdown",
   "id": "3d2342a8-7384-4cfd-8697-9dcf9676127e",
   "metadata": {},
   "source": [
    "This results in many values, and we pick the most important ones to constuct a lead score. This is by taking the mean of all the selected values. Most properties are simple probabilities, so summing them is fine. However some of them are raw numbers. In these case, there are often heuritics-based rules that specific ranges of desired values.\n",
    "\n",
    "To normalize these type of metrics, we define the following functions:\n",
    "* `linear_score`: Returns a number between 0 and 1 within the range of a minimum and maximum value. It returns 0 below the minimum and 1 outside it.\n",
    "* `trapezoid_score`: Return 1 for a specific range of optimum values, and a number between 0 and 1 everywhere else.\n",
    "* `inverse_prob`: Some values, like toxicity, are probabilities, but we would need to invert them."
   ]
  },
  {
   "cell_type": "code",
   "execution_count": 2,
   "id": "8bdc1042-ab9f-474a-bf27-0c946cd8e7ed",
   "metadata": {},
   "outputs": [],
   "source": [
    "def trapezoid_score(x, min_val, low_opt, high_opt, max_val):\n",
    "    if x <= low_opt:\n",
    "        return linear_score(x, min_val, low_opt)\n",
    "    if x >= high_opt:\n",
    "        return linear_score(x, high_opt, max_val)\n",
    "    \n",
    "    return 1.0\n",
    "\n",
    "def linear_score(x, min_val, max_val):\n",
    "    if x <= min_val: return 0.0\n",
    "    if x >= max_val: return 1.0\n",
    "    m = 1/(max_val-min_val)\n",
    "    return m*(x-min_val)\n",
    "\n",
    "def inverse_prob(x):\n",
    "    return 1.0 - x"
   ]
  },
  {
   "cell_type": "markdown",
   "id": "ef52a0c0-d713-4218-8533-a568aad4ac89",
   "metadata": {},
   "source": [
    "Permiability, bioavailability and solubility scores are calculated using:\n",
    "* Linear score for logS (between -8 and -2) and Caco2 permiability values (between -6 and -4.7)\n",
    "* Values of 60 and 120 are prioritized for TPSA, with values between 20-60 and 120-160 moderately considered.\n",
    "\n",
    "The ranges for these values are taken from papers cited in the main text."
   ]
  },
  {
   "cell_type": "code",
   "execution_count": 3,
   "id": "c76351a3-bacb-47af-abaf-8bb30e923e4b",
   "metadata": {},
   "outputs": [],
   "source": [
    "df[\"score_logS\"] = df[\"Solubility_AqSolDB\"].apply(lambda x: linear_score(x, -8, -2))\n",
    "df[\"score_tpsa\"] = df[\"tpsa\"].apply(lambda x: trapezoid_score(x, 20, 60, 120, 160))\n",
    "df[\"Caco2_norm\"] = df[\"Caco2_Wang\"].apply(lambda x: linear_score(x, -6.0, -4.7))"
   ]
  },
  {
   "cell_type": "markdown",
   "id": "9dd428e1-c394-41e9-81c5-c042f9e2d55e",
   "metadata": {},
   "source": [
    "ADMET AI reports various values for CYP inhibition. We take the inverse probability, and mean, of these for considering metabolism."
   ]
  },
  {
   "cell_type": "code",
   "execution_count": 4,
   "id": "d0d34354-d518-48f6-a3b9-f342f9b9df15",
   "metadata": {},
   "outputs": [],
   "source": [
    "cyp_inhib_cols = [\"CYP1A2_Veith\", \"CYP2C19_Veith\", \"CYP2C9_Veith\", \"CYP2D6_Veith\", \"CYP3A4_Veith\"]\n",
    "\n",
    "df[\"score_CYP_inhibition_mean\"] = df[cyp_inhib_cols].map(inverse_prob).mean(axis=1)"
   ]
  },
  {
   "cell_type": "markdown",
   "id": "3446b251-9efb-40ab-8044-2af7fea389e3",
   "metadata": {},
   "source": [
    "ADMET AI also reports probability of the molecules to be toxic. We invert this probability and calculate the mean."
   ]
  },
  {
   "cell_type": "code",
   "execution_count": 5,
   "id": "0cf3ddba-194f-4a0d-991d-9324ee406830",
   "metadata": {},
   "outputs": [],
   "source": [
    "tox_cols = [\"hERG\", \"AMES\", \"DILI\", \"ClinTox\", \"Carcinogens_Lagunin\", \"Skin_Reaction\"]\n",
    "df[\"score_toxicity_mean\"] = df[tox_cols].map(inverse_prob).mean(axis=1)"
   ]
  },
  {
   "cell_type": "markdown",
   "id": "9f8d8551-8fbe-4af0-96fc-1f9a15afd1e1",
   "metadata": {},
   "source": [
    "We take the mean of all there values (include bioavailability metrics of `HIA_Hou`, `Bioavailability_Ma` and drug-likeness `QED`, which are all simple probabilities) to the get the lead score."
   ]
  },
  {
   "cell_type": "code",
   "execution_count": 6,
   "id": "84cfea58-4432-4a72-88ab-e5f51b2d7fd6",
   "metadata": {},
   "outputs": [
    {
     "data": {
      "text/html": [
       "<div>\n",
       "<style scoped>\n",
       "    .dataframe tbody tr th:only-of-type {\n",
       "        vertical-align: middle;\n",
       "    }\n",
       "\n",
       "    .dataframe tbody tr th {\n",
       "        vertical-align: top;\n",
       "    }\n",
       "\n",
       "    .dataframe thead th {\n",
       "        text-align: right;\n",
       "    }\n",
       "</style>\n",
       "<table border=\"1\" class=\"dataframe\">\n",
       "  <thead>\n",
       "    <tr style=\"text-align: right;\">\n",
       "      <th></th>\n",
       "      <th>smiles</th>\n",
       "      <th>lead_score</th>\n",
       "    </tr>\n",
       "  </thead>\n",
       "  <tbody>\n",
       "    <tr>\n",
       "      <th>1</th>\n",
       "      <td>C[C@@H]1Oc2ccccc2O[C@H]1C(=O)N1CCC[C@@H](N2CCN...</td>\n",
       "      <td>0.918034</td>\n",
       "    </tr>\n",
       "    <tr>\n",
       "      <th>5</th>\n",
       "      <td>O=C(Cc1ccco1)N1CC[C@@]2(C[C@H](Nc3ncccn3)CCO2)C1</td>\n",
       "      <td>0.897855</td>\n",
       "    </tr>\n",
       "    <tr>\n",
       "      <th>2</th>\n",
       "      <td>Cc1nc([C@@H]2CCCN(C(=O)CCc3cccnc3)C2)cc(=O)[nH]1</td>\n",
       "      <td>0.896795</td>\n",
       "    </tr>\n",
       "    <tr>\n",
       "      <th>4</th>\n",
       "      <td>Cc1ccc(CNC(=O)N[C@@H]2CCCN(c3ncccn3)C2)cn1</td>\n",
       "      <td>0.877063</td>\n",
       "    </tr>\n",
       "    <tr>\n",
       "      <th>8</th>\n",
       "      <td>Cc1nc(C)n([C@H]2CCCN(C(=O)c3cccc4c[nH]nc34)C2)n1</td>\n",
       "      <td>0.845674</td>\n",
       "    </tr>\n",
       "    <tr>\n",
       "      <th>3</th>\n",
       "      <td>C[C@@]1(C(=O)N2CCC(c3nc4cc(F)ccc4[nH]3)CC2)CCCCO1</td>\n",
       "      <td>0.844407</td>\n",
       "    </tr>\n",
       "    <tr>\n",
       "      <th>7</th>\n",
       "      <td>CO[C@@H](CNc1ncnc(N[C@@H]2CCC[NH2+]C2)n1)c1ccc...</td>\n",
       "      <td>0.790751</td>\n",
       "    </tr>\n",
       "    <tr>\n",
       "      <th>9</th>\n",
       "      <td>Cc1cccc(Nc2nc(N)nc(C[N@@H+]3C[C@@H]4CC(=O)N[C@...</td>\n",
       "      <td>0.698908</td>\n",
       "    </tr>\n",
       "    <tr>\n",
       "      <th>10</th>\n",
       "      <td>CN(C)c1n[nH]c(-c2cccc(C(=O)NCC[NH+]3CCCCC3)c2)n1</td>\n",
       "      <td>0.695348</td>\n",
       "    </tr>\n",
       "    <tr>\n",
       "      <th>6</th>\n",
       "      <td>Cc1cccc(Nc2nc(C[N@@H+]3C[C@@H]4CC(=O)N[C@@H]4C...</td>\n",
       "      <td>0.596646</td>\n",
       "    </tr>\n",
       "  </tbody>\n",
       "</table>\n",
       "</div>"
      ],
      "text/plain": [
       "                                               smiles  lead_score\n",
       "1   C[C@@H]1Oc2ccccc2O[C@H]1C(=O)N1CCC[C@@H](N2CCN...    0.918034\n",
       "5    O=C(Cc1ccco1)N1CC[C@@]2(C[C@H](Nc3ncccn3)CCO2)C1    0.897855\n",
       "2    Cc1nc([C@@H]2CCCN(C(=O)CCc3cccnc3)C2)cc(=O)[nH]1    0.896795\n",
       "4          Cc1ccc(CNC(=O)N[C@@H]2CCCN(c3ncccn3)C2)cn1    0.877063\n",
       "8    Cc1nc(C)n([C@H]2CCCN(C(=O)c3cccc4c[nH]nc34)C2)n1    0.845674\n",
       "3   C[C@@]1(C(=O)N2CCC(c3nc4cc(F)ccc4[nH]3)CC2)CCCCO1    0.844407\n",
       "7   CO[C@@H](CNc1ncnc(N[C@@H]2CCC[NH2+]C2)n1)c1ccc...    0.790751\n",
       "9   Cc1cccc(Nc2nc(N)nc(C[N@@H+]3C[C@@H]4CC(=O)N[C@...    0.698908\n",
       "10   CN(C)c1n[nH]c(-c2cccc(C(=O)NCC[NH+]3CCCCC3)c2)n1    0.695348\n",
       "6   Cc1cccc(Nc2nc(C[N@@H+]3C[C@@H]4CC(=O)N[C@@H]4C...    0.596646"
      ]
     },
     "execution_count": 6,
     "metadata": {},
     "output_type": "execute_result"
    }
   ],
   "source": [
    "df[\"lead_score\"] = (\n",
    "      df[\"score_tpsa\"]\n",
    "    + df[\"score_logS\"]\n",
    "    + df[\"QED\"]\n",
    "    +  df[\"HIA_Hou\"]\n",
    "    +  df[\"Bioavailability_Ma\"]\n",
    "    + df[\"Caco2_norm\"]\n",
    "    + df[\"score_CYP_inhibition_mean\"]\n",
    "    + df[\"score_toxicity_mean\"]\n",
    ")/8\n",
    "\n",
    "df_sorted = df.sort_values(\"lead_score\", ascending=False)\n",
    "df_sorted[['smiles', 'lead_score']]"
   ]
  },
  {
   "cell_type": "markdown",
   "id": "3c4e2634-d4c4-42cb-9d79-8027616c40a4",
   "metadata": {},
   "source": [
    "The 5 top ranked compounds are compound number 1, 5, 2, 4 and 8. These are good candidates for lead optimization."
   ]
  },
  {
   "cell_type": "code",
   "execution_count": null,
   "id": "03cdac24-56a3-48ca-96f1-5c92d3f5a0c8",
   "metadata": {},
   "outputs": [],
   "source": []
  },
  {
   "cell_type": "code",
   "execution_count": null,
   "id": "4d676f0e-7051-41ce-9dc0-361db47e3b8d",
   "metadata": {},
   "outputs": [],
   "source": []
  }
 ],
 "metadata": {
  "kernelspec": {
   "display_name": "Python 3 (ipykernel)",
   "language": "python",
   "name": "python3"
  },
  "language_info": {
   "codemirror_mode": {
    "name": "ipython",
    "version": 3
   },
   "file_extension": ".py",
   "mimetype": "text/x-python",
   "name": "python",
   "nbconvert_exporter": "python",
   "pygments_lexer": "ipython3",
   "version": "3.9.6"
  }
 },
 "nbformat": 4,
 "nbformat_minor": 5
}
