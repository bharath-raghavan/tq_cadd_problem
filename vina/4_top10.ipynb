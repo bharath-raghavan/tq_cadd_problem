{
 "cells": [
  {
   "cell_type": "markdown",
   "id": "483f5b7b-75ca-48f9-a6c0-bb111176b63f",
   "metadata": {},
   "source": [
    "# Selection of Top 10 Candidates\n",
    "\n",
    "Having succesfully performed docking simulations, we can now select the top 10 candidates.\n",
    "\n",
    "As discussed in `2_redocking`, Vina writes docking results into a `.pdbqt` file, where all poses are written into one file. ^the highest ranked pose is written first.\n",
    "\n",
    "First, we read the names of the `.pdbqt` files outputted by the batched virtual screening procedure into a DataFrame. This follows the format of `<mol_id>_out.pwdqt`"
   ]
  },
  {
   "cell_type": "code",
   "execution_count": 1,
   "id": "ca80ff8c-e940-4c5f-9f92-91e60d6fe93b",
   "metadata": {},
   "outputs": [],
   "source": [
    "import pandas as pd\n",
    "from pathlib import Path\n",
    "\n",
    "df = pd.DataFrame([str(i) for i in list(Path(\"./\").rglob(\"*.pdbqt\"))])\n",
    "df.columns = ['file']"
   ]
  },
  {
   "cell_type": "markdown",
   "id": "90250a2e-12c4-4bb2-bb47-2ff3da86c8e8",
   "metadata": {},
   "source": [
    "We again use the convenience function `get_first_mol_from_pdbqt` to read the first (most ranked) pose in a `.pdbqt` file, and return the SMILES string, and docking score. We also define a function to extract the molecule ID from the file name,"
   ]
  },
  {
   "cell_type": "code",
   "execution_count": 2,
   "id": "25edd567-2edc-48e7-98eb-bb103b7e83ce",
   "metadata": {},
   "outputs": [],
   "source": [
    "import re\n",
    "import sys\n",
    "sys.path.append('..')\n",
    "from pdbqt import get_first_mol_from_pdbqt\n",
    "\n",
    "def extract_id(file_name):\n",
    "    finds = re.findall(r\"([0-9]+)\", file_name) # ids are just numbers\n",
    "    return finds[0]"
   ]
  },
  {
   "cell_type": "markdown",
   "id": "73c27412-501e-4cce-ae9f-a164b2dc4126",
   "metadata": {},
   "source": [
    "and apply this to the DataFrame."
   ]
  },
  {
   "cell_type": "code",
   "execution_count": 3,
   "id": "40dec0d7-488f-41df-98bd-320b4fd00b2c",
   "metadata": {},
   "outputs": [],
   "source": [
    "df[['smiles', 'score']] = df['file'].apply(lambda x: pd.Series(get_first_mol_from_pdbqt(x, return_type='smiles')))"
   ]
  },
  {
   "cell_type": "markdown",
   "id": "c198870e-3977-4826-a689-30a86ade71f5",
   "metadata": {},
   "source": [
    "Directly, picking the top 10 binders based on docking score may give us molecules which too chemically similar. Our goal to suggest chemically diverse binders for the lead optimization step. In order to select chemically diverse compounds, we follow a similar procedure used in the data preparation step.\n",
    "\n",
    "The Morgan fingerprints of the molecules are calculated Tanimoto similarity is calculated among the molecules, and Butina clustering is performed. In the data preparation step, the molecule that was the centroid of each cluster (most similar to all other molecules in the cluster) was selected. Instead here, the molecule with the highest docking score in the cluster was selected as the cluster representatives of each cluster."
   ]
  },
  {
   "cell_type": "code",
   "execution_count": 4,
   "id": "edd98adf-aeb4-44a2-8632-aacf5ed915a6",
   "metadata": {},
   "outputs": [],
   "source": [
    "from rdkit.Chem import AllChem\n",
    "morgan = AllChem.GetMorganGenerator(radius=2, fpSize=512)\n",
    "\n",
    "def morgan_fp(smiles):\n",
    "    mol = Chem.MolFromSmiles(smiles)\n",
    "    return morgan.GetFingerprint(mol)\n",
    "\n",
    "df['morgan'] = df['smiles'].apply(morgan_fp)"
   ]
  },
  {
   "cell_type": "code",
   "execution_count": 5,
   "id": "38e7ee51-174c-4c56-a757-d8a0d94847b6",
   "metadata": {},
   "outputs": [],
   "source": [
    "from rdkit import DataStructs\n",
    "from rdkit.ML.Cluster import Butina\n",
    "\n",
    "def get_cluster_representative(df, cutoff):\n",
    "    fps = df['morgan']\n",
    "    n_fps = len(fps)\n",
    "    dists = []\n",
    "    for i in range(1, n_fps):\n",
    "        sims = DataStructs.BulkTanimotoSimilarity(fps[i], list(fps[:i]))\n",
    "        dists.extend([1 - x for x in sims])\n",
    "    \n",
    "    clusters = Butina.ClusterData(data=dists, nPts=n_fps, distThresh=cutoff, isDistData=True)\n",
    "    \n",
    "    # choose one representative per cluster: pick molecule with best docking score\n",
    "    selected_idx = []\n",
    "    for cl in clusters:\n",
    "        if len(cl) == 1:\n",
    "            selected_idx.append(cl[0])\n",
    "            continue\n",
    "        best = df.iloc[list(cl)]['score'].idxmin()\n",
    "        selected_idx.append(best)\n",
    "\n",
    "    return df.loc[selected_idx]"
   ]
  },
  {
   "cell_type": "markdown",
   "id": "b040975f-6cd1-471a-8829-8dfe8d429032",
   "metadata": {},
   "source": [
    "Finally, these cluster representative were sorted by the docking score, and the highest 10 were selected."
   ]
  },
  {
   "cell_type": "code",
   "execution_count": 6,
   "id": "024b65fa-cf1d-43b9-a129-045524e7f1f6",
   "metadata": {},
   "outputs": [],
   "source": [
    "leads = get_cluster_representative(df, 0.4).sort_values(by='score', ascending=True).head(10)"
   ]
  },
  {
   "cell_type": "code",
   "execution_count": 7,
   "id": "e5bf578f-cc11-49af-8770-92381142401a",
   "metadata": {},
   "outputs": [],
   "source": [
    "leads[['smiles', 'score']].to_csv('top10.csv', index=False)"
   ]
  },
  {
   "cell_type": "code",
   "execution_count": null,
   "id": "0109c22b-bf10-45b2-8c84-f783bab65fbb",
   "metadata": {},
   "outputs": [],
   "source": []
  }
 ],
 "metadata": {
  "kernelspec": {
   "display_name": "Python 3 (ipykernel)",
   "language": "python",
   "name": "python3"
  },
  "language_info": {
   "codemirror_mode": {
    "name": "ipython",
    "version": 3
   },
   "file_extension": ".py",
   "mimetype": "text/x-python",
   "name": "python",
   "nbconvert_exporter": "python",
   "pygments_lexer": "ipython3",
   "version": "3.9.6"
  }
 },
 "nbformat": 4,
 "nbformat_minor": 5
}
