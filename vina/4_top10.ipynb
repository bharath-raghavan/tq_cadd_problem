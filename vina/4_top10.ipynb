{
 "cells": [
  {
   "cell_type": "code",
   "execution_count": 1,
   "id": "ca80ff8c-e940-4c5f-9f92-91e60d6fe93b",
   "metadata": {},
   "outputs": [],
   "source": [
    "import pandas as pd\n",
    "from pathlib import Path\n",
    "\n",
    "df = pd.DataFrame([str(i) for i in list(Path(\"./\").rglob(\"*.pdbqt\"))])\n",
    "df.columns = ['file']"
   ]
  },
  {
   "cell_type": "code",
   "execution_count": 2,
   "id": "25edd567-2edc-48e7-98eb-bb103b7e83ce",
   "metadata": {},
   "outputs": [],
   "source": [
    "import re\n",
    "import sys\n",
    "sys.path.append('..')\n",
    "from pdbqt import get_first_mol_from_pdbqt\n",
    "\n",
    "def extract_id(file_name):\n",
    "    finds = re.findall(r\"([0-9]+)\", file_name) # ids are just numbers\n",
    "    return finds[0]"
   ]
  },
  {
   "cell_type": "code",
   "execution_count": 3,
   "id": "40dec0d7-488f-41df-98bd-320b4fd00b2c",
   "metadata": {},
   "outputs": [],
   "source": [
    "df[['smiles', 'score']] = df['file'].apply(lambda x: pd.Series(get_first_mol_from_pdbqt(x, return_type='smiles')))"
   ]
  },
  {
   "cell_type": "code",
   "execution_count": 4,
   "id": "edd98adf-aeb4-44a2-8632-aacf5ed915a6",
   "metadata": {},
   "outputs": [],
   "source": [
    "from rdkit.Chem import AllChem\n",
    "morgan = AllChem.GetMorganGenerator(radius=2, fpSize=512)\n",
    "\n",
    "def morgan_fp(smiles):\n",
    "    mol = Chem.MolFromSmiles(smiles)\n",
    "    return morgan.GetFingerprint(mol)\n",
    "\n",
    "df['morgan'] = df['smiles'].apply(morgan_fp)"
   ]
  },
  {
   "cell_type": "code",
   "execution_count": 5,
   "id": "38e7ee51-174c-4c56-a757-d8a0d94847b6",
   "metadata": {},
   "outputs": [],
   "source": [
    "from rdkit import DataStructs\n",
    "from rdkit.ML.Cluster import Butina\n",
    "\n",
    "def get_cluster_representative(df, cutoff):\n",
    "    fps = df['morgan']\n",
    "    n_fps = len(fps)\n",
    "    dists = []\n",
    "    for i in range(1, n_fps):\n",
    "        sims = DataStructs.BulkTanimotoSimilarity(fps[i], list(fps[:i]))\n",
    "        dists.extend([1 - x for x in sims])\n",
    "    \n",
    "    clusters = Butina.ClusterData(data=dists, nPts=n_fps, distThresh=cutoff, isDistData=True)\n",
    "    \n",
    "    # choose one representative per cluster: pick molecule with best docking score\n",
    "    selected_idx = []\n",
    "    for cl in clusters:\n",
    "        if len(cl) == 1:\n",
    "            selected_idx.append(cl[0])\n",
    "            continue\n",
    "        best = df.iloc[list(cl)]['score'].idxmin()\n",
    "        selected_idx.append(best)\n",
    "\n",
    "    return df.loc[selected_idx]"
   ]
  },
  {
   "cell_type": "code",
   "execution_count": 6,
   "id": "024b65fa-cf1d-43b9-a129-045524e7f1f6",
   "metadata": {},
   "outputs": [],
   "source": [
    "leads = get_cluster_representative(df, 0.4).sort_values(by='score', ascending=True).head(10)"
   ]
  },
  {
   "cell_type": "code",
   "execution_count": 7,
   "id": "e5bf578f-cc11-49af-8770-92381142401a",
   "metadata": {},
   "outputs": [],
   "source": [
    "leads[['smiles', 'score']].to_csv('top10.csv', index=False)"
   ]
  },
  {
   "cell_type": "code",
   "execution_count": null,
   "id": "0109c22b-bf10-45b2-8c84-f783bab65fbb",
   "metadata": {},
   "outputs": [],
   "source": []
  }
 ],
 "metadata": {
  "kernelspec": {
   "display_name": "Python 3 (ipykernel)",
   "language": "python",
   "name": "python3"
  },
  "language_info": {
   "codemirror_mode": {
    "name": "ipython",
    "version": 3
   },
   "file_extension": ".py",
   "mimetype": "text/x-python",
   "name": "python",
   "nbconvert_exporter": "python",
   "pygments_lexer": "ipython3",
   "version": "3.9.6"
  }
 },
 "nbformat": 4,
 "nbformat_minor": 5
}
