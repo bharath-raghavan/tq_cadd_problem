{
 "cells": [
  {
   "cell_type": "markdown",
   "id": "466964b5-248b-41d4-b255-862c10c83481",
   "metadata": {},
   "source": [
    "# 2. Redocking\n",
    "\n",
    "Before we can start our virtual screening campaign, we need to make sure that our docking setup can adequately reproduce the pose of protein/co-ligand complex in the crystal structure. In practice, this would mean docking the the co-ligand, starting from its structure in the PDB, and checking to see if the RMSD between the docked and the crystal structure is less that 2 Å.\n",
    "\n",
    "For this, we will need to prepare the co-ligand. We add hydrogens using Openbabel (`obabel`) and use the Meeko helper tool to prepare the ligand for docking with Autodock Vina. The binaries are listed below:"
   ]
  },
  {
   "cell_type": "code",
   "execution_count": 1,
   "id": "bc838c1a-63f3-4339-b4c6-838ca5154de1",
   "metadata": {},
   "outputs": [],
   "source": [
    "## define all binaries\n",
    "mk_prepapre_ligand = 'mk_prepare_ligand.py'\n",
    "vina = 'vina'\n",
    "obabel = 'obabel'"
   ]
  },
  {
   "cell_type": "markdown",
   "id": "11ca0a01-e1a2-439e-958a-e6588fffef3c",
   "metadata": {},
   "source": [
    "Protonate the ligand at physiological pH, and prepare it:"
   ]
  },
  {
   "cell_type": "code",
   "execution_count": 2,
   "id": "6921d0ed-88b2-4a79-b0c5-dbe459f1186b",
   "metadata": {},
   "outputs": [
    {
     "name": "stdout",
     "output_type": "stream",
     "text": [
      "1 molecule converted\n"
     ]
    }
   ],
   "source": [
    "ligand_file = '0G6_H'\n",
    "!obabel /Users/vbf/Work/projects/terraq/1ppb/vina/2_redock/1_ligand/1ppb_C_0G6.sdf -O{ligand_file}.sdf -ph 7.4"
   ]
  },
  {
   "cell_type": "code",
   "execution_count": 3,
   "id": "3345eea7-e658-4e63-8ded-09d079e58bd3",
   "metadata": {},
   "outputs": [
    {
     "name": "stdout",
     "output_type": "stream",
     "text": [
      "Input molecules processed: 1, skipped: 0\n",
      "PDBQT files written: 1\n",
      "PDBQT files not written due to error: 0\n",
      "Input molecules with errors: 0\n"
     ]
    }
   ],
   "source": [
    "!{mk_prepapre_ligand} -i {ligand_file}.sdf -o {ligand_file}.pdbqt"
   ]
  },
  {
   "cell_type": "markdown",
   "id": "f1043b0d-8e1b-4d81-a4f6-778531094d6f",
   "metadata": {},
   "source": [
    "The main parameter we can play with when perfoming docking in Autodock Vina is the exhaustiveness. A higher exhaustiveness value means more search runs are performed, leading to a more thorough exploration of the conformational space and a greater probability of finding the lowest-energy binding pose. But, would of course require more computational effort. Conversely, a lower value is faster but may miss the optimal solution. We perform docking at various exhaustiveness values to check for convergence."
   ]
  },
  {
   "cell_type": "code",
   "execution_count": 4,
   "id": "ec0970d7-e5a5-40b4-8f41-2b2d78deb81e",
   "metadata": {},
   "outputs": [],
   "source": [
    "exh_vals = [8, 32, 64, 128]"
   ]
  },
  {
   "cell_type": "code",
   "execution_count": 5,
   "id": "bdfb4645-4273-4073-a2d7-a2db60cee7b8",
   "metadata": {
    "scrolled": true
   },
   "outputs": [
    {
     "name": "stdout",
     "output_type": "stream",
     "text": [
      "Running with exhaustiveness 8\n",
      "/Users/vbf/Work/bin/vina_1.2.7_mac_aarch64 --ligand 0G6_H.pdbqt  --receptor 1ppb_receptor.pdbqt --config 1ppb_receptor.box.txt --exhaustiveness=8 --out docked8.pdb --num_modes 9 | tee docking8.log\n",
      "AutoDock Vina v1.2.7\n",
      "#################################################################\n",
      "# If you used AutoDock Vina in your work, please cite:          #\n",
      "#                                                               #\n",
      "# J. Eberhardt, D. Santos-Martins, A. F. Tillack, and S. Forli  #\n",
      "# AutoDock Vina 1.2.0: New Docking Methods, Expanded Force      #\n",
      "# Field, and Python Bindings, J. Chem. Inf. Model. (2021)       #\n",
      "# DOI 10.1021/acs.jcim.1c00203                                  #\n",
      "#                                                               #\n",
      "# O. Trott, A. J. Olson,                                        #\n",
      "# AutoDock Vina: improving the speed and accuracy of docking    #\n",
      "# with a new scoring function, efficient optimization and       #\n",
      "# multithreading, J. Comp. Chem. (2010)                         #\n",
      "# DOI 10.1002/jcc.21334                                         #\n",
      "#                                                               #\n",
      "# Please see https://github.com/ccsb-scripps/AutoDock-Vina for  #\n",
      "# more information.                                             #\n",
      "#################################################################\n",
      "\n",
      "Scoring function : vina\n",
      "Rigid receptor: 1ppb_receptor.pdbqt\n",
      "Ligand: 0G6_H.pdbqt\n",
      "Grid center: X 5.04 Y 17.14 Z 18.38\n",
      "Grid size  : X 14 Y 11 Z 18\n",
      "Grid space : 0.375\n",
      "Exhaustiveness: 8\n",
      "CPU: 0\n",
      "Verbosity: 1\n",
      "\n",
      "Computing Vina grid ... done.\n",
      "Performing docking (random seed: -1090096994) ... \n",
      "0%   10   20   30   40   50   60   70   80   90   100%\n",
      "|----|----|----|----|----|----|----|----|----|----|\n",
      "***************************************************\n",
      "\n",
      "mode |   affinity | dist from best mode\n",
      "     | (kcal/mol) | rmsd l.b.| rmsd u.b.\n",
      "-----+------------+----------+----------\n",
      "   1       -8.499          0          0\n",
      "   2       -7.764      1.999      3.343\n",
      "   3       -7.665      2.687      7.881\n",
      "   4       -7.655      2.309      8.096\n",
      "   5       -7.587      2.727      7.152\n",
      "   6       -7.532      2.691      8.075\n",
      "   7        -7.43      2.744       8.89\n",
      "   8       -7.341      3.196      7.733\n",
      "   9       -7.331      2.719      7.559\n",
      "Running with exhaustiveness 32\n",
      "/Users/vbf/Work/bin/vina_1.2.7_mac_aarch64 --ligand 0G6_H.pdbqt  --receptor 1ppb_receptor.pdbqt --config 1ppb_receptor.box.txt --exhaustiveness=32 --out docked32.pdb --num_modes 9 | tee docking32.log\n",
      "AutoDock Vina v1.2.7\n",
      "#################################################################\n",
      "# If you used AutoDock Vina in your work, please cite:          #\n",
      "#                                                               #\n",
      "# J. Eberhardt, D. Santos-Martins, A. F. Tillack, and S. Forli  #\n",
      "# AutoDock Vina 1.2.0: New Docking Methods, Expanded Force      #\n",
      "# Field, and Python Bindings, J. Chem. Inf. Model. (2021)       #\n",
      "# DOI 10.1021/acs.jcim.1c00203                                  #\n",
      "#                                                               #\n",
      "# O. Trott, A. J. Olson,                                        #\n",
      "# AutoDock Vina: improving the speed and accuracy of docking    #\n",
      "# with a new scoring function, efficient optimization and       #\n",
      "# multithreading, J. Comp. Chem. (2010)                         #\n",
      "# DOI 10.1002/jcc.21334                                         #\n",
      "#                                                               #\n",
      "# Please see https://github.com/ccsb-scripps/AutoDock-Vina for  #\n",
      "# more information.                                             #\n",
      "#################################################################\n",
      "\n",
      "Scoring function : vina\n",
      "Rigid receptor: 1ppb_receptor.pdbqt\n",
      "Ligand: 0G6_H.pdbqt\n",
      "Grid center: X 5.04 Y 17.14 Z 18.38\n",
      "Grid size  : X 14 Y 11 Z 18\n",
      "Grid space : 0.375\n",
      "Exhaustiveness: 32\n",
      "CPU: 0\n",
      "Verbosity: 1\n",
      "\n",
      "Computing Vina grid ... done.\n",
      "Performing docking (random seed: 666406552) ... \n",
      "0%   10   20   30   40   50   60   70   80   90   100%\n",
      "|----|----|----|----|----|----|----|----|----|----|\n",
      "***************************************************\n",
      "\n",
      "mode |   affinity | dist from best mode\n",
      "     | (kcal/mol) | rmsd l.b.| rmsd u.b.\n",
      "-----+------------+----------+----------\n",
      "   1       -8.529          0          0\n",
      "   2       -7.835      2.444      8.364\n",
      "   3       -7.819       1.98      3.334\n",
      "   4       -7.781      1.394      2.521\n",
      "   5        -7.65      2.763      8.073\n",
      "   6       -7.634      2.694      8.192\n",
      "   7         -7.6      1.481      2.057\n",
      "   8       -7.572      1.749      2.303\n",
      "   9       -7.554      2.657       7.12\n",
      "Running with exhaustiveness 64\n",
      "/Users/vbf/Work/bin/vina_1.2.7_mac_aarch64 --ligand 0G6_H.pdbqt  --receptor 1ppb_receptor.pdbqt --config 1ppb_receptor.box.txt --exhaustiveness=64 --out docked64.pdb --num_modes 9 | tee docking64.log\n",
      "AutoDock Vina v1.2.7\n",
      "#################################################################\n",
      "# If you used AutoDock Vina in your work, please cite:          #\n",
      "#                                                               #\n",
      "# J. Eberhardt, D. Santos-Martins, A. F. Tillack, and S. Forli  #\n",
      "# AutoDock Vina 1.2.0: New Docking Methods, Expanded Force      #\n",
      "# Field, and Python Bindings, J. Chem. Inf. Model. (2021)       #\n",
      "# DOI 10.1021/acs.jcim.1c00203                                  #\n",
      "#                                                               #\n",
      "# O. Trott, A. J. Olson,                                        #\n",
      "# AutoDock Vina: improving the speed and accuracy of docking    #\n",
      "# with a new scoring function, efficient optimization and       #\n",
      "# multithreading, J. Comp. Chem. (2010)                         #\n",
      "# DOI 10.1002/jcc.21334                                         #\n",
      "#                                                               #\n",
      "# Please see https://github.com/ccsb-scripps/AutoDock-Vina for  #\n",
      "# more information.                                             #\n",
      "#################################################################\n",
      "\n",
      "Scoring function : vina\n",
      "Rigid receptor: 1ppb_receptor.pdbqt\n",
      "Ligand: 0G6_H.pdbqt\n",
      "Grid center: X 5.04 Y 17.14 Z 18.38\n",
      "Grid size  : X 14 Y 11 Z 18\n",
      "Grid space : 0.375\n",
      "Exhaustiveness: 64\n",
      "CPU: 0\n",
      "Verbosity: 1\n",
      "\n",
      "Computing Vina grid ... done.\n",
      "Performing docking (random seed: 1829509588) ... \n",
      "0%   10   20   30   40   50   60   70   80   90   100%\n",
      "|----|----|----|----|----|----|----|----|----|----|\n",
      "***************************************************\n",
      "\n",
      "mode |   affinity | dist from best mode\n",
      "     | (kcal/mol) | rmsd l.b.| rmsd u.b.\n",
      "-----+------------+----------+----------\n",
      "   1       -8.485          0          0\n",
      "   2        -7.96      2.464      8.415\n",
      "   3       -7.783      1.995      3.314\n",
      "   4       -7.714      1.804      2.797\n",
      "   5       -7.613      2.921      8.114\n",
      "   6       -7.595      2.555      7.345\n",
      "   7       -7.539      2.612      7.112\n",
      "   8       -7.537      2.704      7.813\n",
      "   9       -7.239      1.664       2.62\n",
      "Running with exhaustiveness 128\n",
      "/Users/vbf/Work/bin/vina_1.2.7_mac_aarch64 --ligand 0G6_H.pdbqt  --receptor 1ppb_receptor.pdbqt --config 1ppb_receptor.box.txt --exhaustiveness=128 --out docked128.pdb --num_modes 9 | tee ocking128.log\n",
      "AutoDock Vina v1.2.7\n",
      "#################################################################\n",
      "# If you used AutoDock Vina in your work, please cite:          #\n",
      "#                                                               #\n",
      "# J. Eberhardt, D. Santos-Martins, A. F. Tillack, and S. Forli  #\n",
      "# AutoDock Vina 1.2.0: New Docking Methods, Expanded Force      #\n",
      "# Field, and Python Bindings, J. Chem. Inf. Model. (2021)       #\n",
      "# DOI 10.1021/acs.jcim.1c00203                                  #\n",
      "#                                                               #\n",
      "# O. Trott, A. J. Olson,                                        #\n",
      "# AutoDock Vina: improving the speed and accuracy of docking    #\n",
      "# with a new scoring function, efficient optimization and       #\n",
      "# multithreading, J. Comp. Chem. (2010)                         #\n",
      "# DOI 10.1002/jcc.21334                                         #\n",
      "#                                                               #\n",
      "# Please see https://github.com/ccsb-scripps/AutoDock-Vina for  #\n",
      "# more information.                                             #\n",
      "#################################################################\n",
      "\n",
      "Scoring function : vina\n",
      "Rigid receptor: 1ppb_receptor.pdbqt\n",
      "Ligand: 0G6_H.pdbqt\n",
      "Grid center: X 5.04 Y 17.14 Z 18.38\n",
      "Grid size  : X 14 Y 11 Z 18\n",
      "Grid space : 0.375\n",
      "Exhaustiveness: 128\n",
      "CPU: 0\n",
      "Verbosity: 1\n",
      "\n",
      "Computing Vina grid ... done.\n",
      "Performing docking (random seed: 1384109267) ... \n",
      "0%   10   20   30   40   50   60   70   80   90   100%\n",
      "|----|----|----|----|----|----|----|----|----|----|\n",
      "***************************************************\n",
      "\n",
      "mode |   affinity | dist from best mode\n",
      "     | (kcal/mol) | rmsd l.b.| rmsd u.b.\n",
      "-----+------------+----------+----------\n",
      "   1       -8.489          0          0\n",
      "   2       -7.916      2.454      8.432\n",
      "   3       -7.799      1.998      3.297\n",
      "   4       -7.796      2.341      7.017\n",
      "   5        -7.77      1.413      2.481\n",
      "   6        -7.68      2.793      8.202\n",
      "   7       -7.677      1.815      2.729\n",
      "   8       -7.601      2.972      8.165\n",
      "   9        -7.55      2.554      7.434\n"
     ]
    }
   ],
   "source": [
    "for i in exh_vals:\n",
    "    cmd = (f\"{vina} --ligand {ligand_file}.pdbqt  --receptor 1ppb_receptor.pdbqt \"\n",
    "       f\"--config 1ppb_receptor.box.txt --exhaustiveness={i} --out 2_redock/2_docking/docked{i}.pdb \"\n",
    "        f\"--num_modes 9 | tee 2_redock/2_docking/docking{i}.log\")\n",
    "    print(f\"Running with exhaustiveness {i}\")\n",
    "    print(cmd)\n",
    "    !{cmd}"
   ]
  },
  {
   "cell_type": "markdown",
   "id": "c2c84821-8eec-49d4-89ed-791b819524db",
   "metadata": {},
   "source": [
    "After performing docking, we can check the RMSD and docking scores for convergence."
   ]
  },
  {
   "cell_type": "code",
   "execution_count": 6,
   "id": "56596900-7aeb-4901-8941-3c57961aaa18",
   "metadata": {},
   "outputs": [],
   "source": [
    "file_list = [f\"2_redock/2_docking/docked{i}.pdb\" for i in exh_vals]"
   ]
  },
  {
   "cell_type": "markdown",
   "id": "53abd2c0-8af5-48e7-9d44-925727537379",
   "metadata": {},
   "source": [
    "Below defines some helper functions to extract the coordinates of the first (best ranked) molecule and score from the docking results."
   ]
  },
  {
   "cell_type": "code",
   "execution_count": 7,
   "id": "41a63788-7f36-4912-82fd-c814bd198625",
   "metadata": {},
   "outputs": [],
   "source": [
    "import re\n",
    "from rdkit import Chem\n",
    "from rdkit.Chem import AllChem\n",
    "\n",
    "def get_first_mol_from_pdbqt(file):\n",
    "    mol_block = \"\"\n",
    "    score = None\n",
    "    with open(file, 'r') as f:\n",
    "        for i, line in enumerate(f):\n",
    "            if i == 1:\n",
    "                finds = re.findall(r\"REMARK VINA RESULT:\\s+([0-9\\-.]+)\", line)\n",
    "                if finds != []:\n",
    "                    score = float(finds[0])\n",
    "\n",
    "            if line.startswith(\"ATOM\"):\n",
    "                line_ = line.strip()\n",
    "                mol_block += line_[:len(line_)-2]+'\\n'\n",
    "\n",
    "            if line.strip() == 'ENDMDL':\n",
    "                break\n",
    "\n",
    "    return Chem.MolFromPDBBlock(mol_block, removeHs=True), score\n",
    "\n",
    "mol_original, _ = get_first_mol_from_pdbqt(\"2_redock/1_ligand/0G6_H.pdbqt\")\n",
    "\n",
    "def get_scores(file):\n",
    "    mol,score = get_first_mol_from_pdbqt(file)\n",
    "    return AllChem.GetBestRMS(mol_original, mol), score"
   ]
  },
  {
   "cell_type": "code",
   "execution_count": 8,
   "id": "ddb7d385-8dcb-4a1b-a815-74fe48b69a7a",
   "metadata": {},
   "outputs": [],
   "source": [
    "dock_scores = []\n",
    "rmsd_scores = []"
   ]
  },
  {
   "cell_type": "code",
   "execution_count": 9,
   "id": "5e5a3f2c-9d68-4f6b-9572-06c8ee7c5347",
   "metadata": {},
   "outputs": [
    {
     "data": {
      "text/html": [
       "<div>\n",
       "<style scoped>\n",
       "    .dataframe tbody tr th:only-of-type {\n",
       "        vertical-align: middle;\n",
       "    }\n",
       "\n",
       "    .dataframe tbody tr th {\n",
       "        vertical-align: top;\n",
       "    }\n",
       "\n",
       "    .dataframe thead th {\n",
       "        text-align: right;\n",
       "    }\n",
       "</style>\n",
       "<table border=\"1\" class=\"dataframe\">\n",
       "  <thead>\n",
       "    <tr style=\"text-align: right;\">\n",
       "      <th></th>\n",
       "      <th>exhaustiveness</th>\n",
       "      <th>RMSD</th>\n",
       "      <th>Docking Score</th>\n",
       "    </tr>\n",
       "  </thead>\n",
       "  <tbody>\n",
       "    <tr>\n",
       "      <th>0</th>\n",
       "      <td>8</td>\n",
       "      <td>0.697987</td>\n",
       "      <td>-8.499</td>\n",
       "    </tr>\n",
       "    <tr>\n",
       "      <th>1</th>\n",
       "      <td>32</td>\n",
       "      <td>0.689169</td>\n",
       "      <td>-8.529</td>\n",
       "    </tr>\n",
       "    <tr>\n",
       "      <th>2</th>\n",
       "      <td>64</td>\n",
       "      <td>0.707369</td>\n",
       "      <td>-8.485</td>\n",
       "    </tr>\n",
       "    <tr>\n",
       "      <th>3</th>\n",
       "      <td>128</td>\n",
       "      <td>0.680418</td>\n",
       "      <td>-8.489</td>\n",
       "    </tr>\n",
       "  </tbody>\n",
       "</table>\n",
       "</div>"
      ],
      "text/plain": [
       "   exhaustiveness      RMSD  Docking Score\n",
       "0               8  0.697987         -8.499\n",
       "1              32  0.689169         -8.529\n",
       "2              64  0.707369         -8.485\n",
       "3             128  0.680418         -8.489"
      ]
     },
     "execution_count": 10,
     "metadata": {},
     "output_type": "execute_result"
    }
   ],
   "source": [
    "for file in file_list:\n",
    "    i,j = get_scores(file)\n",
    "    rmsd_scores.append(i)\n",
    "    dock_scores.append(j)\n",
    "\n",
    "import pandas as pd\n",
    "\n",
    "pd.DataFrame({\"exhaustiveness\": exh_vals, \"RMSD\": rmsd_scores, \"Docking Score\": dock_scores})"
   ]
  },
  {
   "cell_type": "markdown",
   "id": "c2a708f6-6d2c-4e2c-91de-917a6c44869b",
   "metadata": {},
   "source": [
    "We can see above that the RMSD is within the 2 Å for all values of exhaustiveness. Furthermore, there is not much various among the scores as the exhaustiveness changes. Thus, I deem an exhaustiveness value of 8 as sufficient for accurate docking in this system. This setup is used for the next step of virtual screening."
   ]
  },
  {
   "cell_type": "code",
   "execution_count": null,
   "id": "f855848e-5231-4551-8b40-16d15a0800cf",
   "metadata": {},
   "outputs": [],
   "source": []
  }
 ],
 "metadata": {
  "kernelspec": {
   "display_name": "Python 3 (ipykernel)",
   "language": "python",
   "name": "python3"
  },
  "language_info": {
   "codemirror_mode": {
    "name": "ipython",
    "version": 3
   },
   "file_extension": ".py",
   "mimetype": "text/x-python",
   "name": "python",
   "nbconvert_exporter": "python",
   "pygments_lexer": "ipython3",
   "version": "3.9.6"
  }
 },
 "nbformat": 4,
 "nbformat_minor": 5
}
