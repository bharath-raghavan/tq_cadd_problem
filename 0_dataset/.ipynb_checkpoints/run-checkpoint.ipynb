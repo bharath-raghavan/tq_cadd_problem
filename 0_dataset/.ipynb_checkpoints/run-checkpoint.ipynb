{
 "cells": [
  {
   "cell_type": "code",
   "execution_count": 1,
   "id": "a91a34ee-135d-4981-8681-9f8040513630",
   "metadata": {
    "collapsed": true,
    "jupyter": {
     "outputs_hidden": true
    }
   },
   "outputs": [
    {
     "name": "stdout",
     "output_type": "stream",
     "text": [
      "URL transformed to HTTPS due to an HSTS policy\n",
      "--2025-10-25 09:41:29--  https://files.docking.org/2D/CA/CAAA.smi\n",
      "Resolving files.docking.org (files.docking.org)... 169.230.75.4\n",
      "Connecting to files.docking.org (files.docking.org)|169.230.75.4|:443... connected.\n",
      "HTTP request sent, awaiting response... 200 OK\n",
      "Length: 109570 (107K) [application/smil+xml]\n",
      "Saving to: ‘CA/CAAA.smi’\n",
      "\n",
      "CA/CAAA.smi         100%[===================>] 107.00K  --.-KB/s    in 0.1s    \n",
      "\n",
      "2025-10-25 09:41:29 (937 KB/s) - ‘CA/CAAA.smi’ saved [109570/109570]\n",
      "\n",
      "URL transformed to HTTPS due to an HSTS policy\n",
      "--2025-10-25 09:41:30--  https://files.docking.org/2D/CA/CAAB.smi\n",
      "Resolving files.docking.org (files.docking.org)... 169.230.75.4\n",
      "Connecting to files.docking.org (files.docking.org)|169.230.75.4|:443... connected.\n",
      "HTTP request sent, awaiting response... 200 OK\n",
      "Length: 249137 (243K) [application/smil+xml]\n",
      "Saving to: ‘CA/CAAB.smi’\n",
      "\n",
      "CA/CAAB.smi         100%[===================>] 243.30K  1009KB/s    in 0.2s    \n",
      "\n",
      "2025-10-25 09:41:30 (1009 KB/s) - ‘CA/CAAB.smi’ saved [249137/249137]\n",
      "\n",
      "URL transformed to HTTPS due to an HSTS policy\n",
      "--2025-10-25 09:41:30--  https://files.docking.org/2D/CA/CABA.smi\n",
      "Resolving files.docking.org (files.docking.org)... 169.230.75.4\n",
      "Connecting to files.docking.org (files.docking.org)|169.230.75.4|:443... connected.\n",
      "HTTP request sent, awaiting response... 200 OK\n",
      "Length: 1363 (1.3K) [application/smil+xml]\n",
      "Saving to: ‘CA/CABA.smi’\n",
      "\n",
      "CA/CABA.smi         100%[===================>]   1.33K  --.-KB/s    in 0s      \n",
      "\n",
      "2025-10-25 09:41:31 (18.3 MB/s) - ‘CA/CABA.smi’ saved [1363/1363]\n",
      "\n",
      "URL transformed to HTTPS due to an HSTS policy\n",
      "--2025-10-25 09:41:31--  https://files.docking.org/2D/CA/CABB.smi\n",
      "Resolving files.docking.org (files.docking.org)... 169.230.75.4\n",
      "Connecting to files.docking.org (files.docking.org)|169.230.75.4|:443... connected.\n",
      "HTTP request sent, awaiting response... ^C\n"
     ]
    }
   ],
   "source": [
    "!./download.wget"
   ]
  },
  {
   "cell_type": "code",
   "execution_count": 2,
   "id": "240c31df-13e2-47c9-b563-5222ed639ef5",
   "metadata": {},
   "outputs": [],
   "source": [
    "from filteragent import FilterAgent"
   ]
  },
  {
   "cell_type": "code",
   "execution_count": 3,
   "id": "d773ccaf-662f-4a2b-a31c-70b5f2bbd3e1",
   "metadata": {},
   "outputs": [],
   "source": [
    "fa = FilterAgent('./')"
   ]
  },
  {
   "cell_type": "code",
   "execution_count": 4,
   "id": "0c8305d7-1fc9-4007-9b79-ee25ba13c5f2",
   "metadata": {},
   "outputs": [
    {
     "data": {
      "application/vnd.jupyter.widget-view+json": {
       "model_id": "ec8d12b71f654e5c8320dadb191799c5",
       "version_major": 2,
       "version_minor": 0
      },
      "text/plain": [
       "Step 1. Read and pre-filtering dataset based on physical properties:   0%|          | 0/3856397 [00:00<?, ?it/…"
      ]
     },
     "metadata": {},
     "output_type": "display_data"
    },
    {
     "name": "stdout",
     "output_type": "stream",
     "text": [
      "Filtering..\n"
     ]
    }
   ],
   "source": [
    "df = fa.step1()"
   ]
  },
  {
   "cell_type": "code",
   "execution_count": 5,
   "id": "b9d7c3a3-6a06-4fb8-965b-ebdc6e305127",
   "metadata": {},
   "outputs": [
    {
     "name": "stdout",
     "output_type": "stream",
     "text": [
      "--2025-10-25 09:54:34--  https://models.rcsb.org/v1/1ppb/ligand?auth_seq_id=1&label_asym_id=C&encoding=sdf&filename=1ppb_C_0G6.sdf\n",
      "Resolving models.rcsb.org (models.rcsb.org)... 128.6.158.175\n",
      "Connecting to models.rcsb.org (models.rcsb.org)|128.6.158.175|:443... connected.\n",
      "HTTP request sent, awaiting response... 200 OK\n",
      "Length: 3498 (3.4K) [text/plain]\n",
      "Saving to: ‘1ppb_C_0G6.sdf’\n",
      "\n",
      "1ppb_C_0G6.sdf      100%[===================>]   3.42K  --.-KB/s    in 0s      \n",
      "\n",
      "2025-10-25 09:54:35 (12.2 MB/s) - ‘1ppb_C_0G6.sdf’ saved [3498/3498]\n",
      "\n"
     ]
    },
    {
     "name": "stderr",
     "output_type": "stream",
     "text": [
      "[09:54:35] Warning: molecule is tagged as 2D, but at least one Z coordinate is not zero. Marking the mol as 3D.\n"
     ]
    }
   ],
   "source": [
    "!wget -O 1ppb_C_0G6.sdf 'https://models.rcsb.org/v1/1ppb/ligand?auth_seq_id=1&label_asym_id=C&encoding=sdf&filename=1ppb_C_0G6.sdf'\n",
    "from rdkit import Chem\n",
    "lig_0g6 = Chem.SDMolSupplier('1ppb_C_0G6.sdf')[0]"
   ]
  },
  {
   "cell_type": "code",
   "execution_count": 6,
   "id": "fb61c102-4c20-44c7-af55-641399d1fbff",
   "metadata": {},
   "outputs": [
    {
     "name": "stdout",
     "output_type": "stream",
     "text": [
      "Step 2. Remove similar ligands\n"
     ]
    },
    {
     "data": {
      "application/vnd.jupyter.widget-view+json": {
       "model_id": "e5cc9eef0e424d86ad58d623ae5c9782",
       "version_major": 2,
       "version_minor": 0
      },
      "text/plain": [
       "Calculating fingerprints:   0%|          | 0/10000 [00:00<?, ?it/s]"
      ]
     },
     "metadata": {},
     "output_type": "display_data"
    },
    {
     "name": "stdout",
     "output_type": "stream",
     "text": [
      "Separate into analogs and non-analogs of co-ligand\n",
      "Number of analogs: 1000, the rest: 9000\n",
      "Clustering non-analogs\n"
     ]
    },
    {
     "data": {
      "application/vnd.jupyter.widget-view+json": {
       "model_id": "5ae3542d58e642f2836685310761e539",
       "version_major": 2,
       "version_minor": 0
      },
      "text/plain": [
       "Calculating similarity:   0%|          | 0/8999 [00:00<?, ?it/s]"
      ]
     },
     "metadata": {},
     "output_type": "display_data"
    },
    {
     "name": "stdout",
     "output_type": "stream",
     "text": [
      "Performing clustering\n",
      "Clustering analogs\n"
     ]
    },
    {
     "data": {
      "application/vnd.jupyter.widget-view+json": {
       "model_id": "b7532953e38440c6911871385faca9b4",
       "version_major": 2,
       "version_minor": 0
      },
      "text/plain": [
       "Calculating similarity:   0%|          | 0/999 [00:00<?, ?it/s]"
      ]
     },
     "metadata": {},
     "output_type": "display_data"
    },
    {
     "name": "stdout",
     "output_type": "stream",
     "text": [
      "Performing clustering\n"
     ]
    }
   ],
   "source": [
    "fa.step2(lig_0g6)"
   ]
  },
  {
   "cell_type": "code",
   "execution_count": 7,
   "id": "612b95f1-0602-4119-8881-4c492eff6c37",
   "metadata": {},
   "outputs": [
    {
     "data": {
      "application/vnd.jupyter.widget-view+json": {
       "model_id": "9df4d1fc6b204969ac636ee01dfa53e4",
       "version_major": 2,
       "version_minor": 0
      },
      "text/plain": [
       "Step 3. Pharmacopohore screening:   0%|          | 0/2493 [00:00<?, ?it/s]"
      ]
     },
     "metadata": {},
     "output_type": "display_data"
    }
   ],
   "source": [
    "fa.step3(lig_0g6)"
   ]
  },
  {
   "cell_type": "code",
   "execution_count": 8,
   "id": "973468a0-1699-4157-b75c-1eafcaf046bd",
   "metadata": {},
   "outputs": [
    {
     "data": {
      "text/html": [
       "<div>\n",
       "<style scoped>\n",
       "    .dataframe tbody tr th:only-of-type {\n",
       "        vertical-align: middle;\n",
       "    }\n",
       "\n",
       "    .dataframe tbody tr th {\n",
       "        vertical-align: top;\n",
       "    }\n",
       "\n",
       "    .dataframe thead th {\n",
       "        text-align: right;\n",
       "    }\n",
       "</style>\n",
       "<table border=\"1\" class=\"dataframe\">\n",
       "  <thead>\n",
       "    <tr style=\"text-align: right;\">\n",
       "      <th></th>\n",
       "      <th>smiles</th>\n",
       "      <th>rb</th>\n",
       "      <th>hbd</th>\n",
       "      <th>hba</th>\n",
       "      <th>tpsa</th>\n",
       "      <th>fsp3</th>\n",
       "      <th>heavy</th>\n",
       "    </tr>\n",
       "  </thead>\n",
       "  <tbody>\n",
       "    <tr>\n",
       "      <th>8254</th>\n",
       "      <td>NCCCCCNC(=O)CCCC[C@H]1SC[C@@H]2NC(=O)N[C@H]21</td>\n",
       "      <td>10</td>\n",
       "      <td>4</td>\n",
       "      <td>4</td>\n",
       "      <td>96.25</td>\n",
       "      <td>0.866667</td>\n",
       "      <td>22</td>\n",
       "    </tr>\n",
       "    <tr>\n",
       "      <th>2578</th>\n",
       "      <td>Cc1cc(=N[C@H]2CC[C@@H](C(=O)N3CCC(CO)CC3)CC2)[...</td>\n",
       "      <td>3</td>\n",
       "      <td>4</td>\n",
       "      <td>4</td>\n",
       "      <td>108.33</td>\n",
       "      <td>0.722222</td>\n",
       "      <td>25</td>\n",
       "    </tr>\n",
       "    <tr>\n",
       "      <th>8771</th>\n",
       "      <td>CCCCC[C@@H](O)CCO[C@@H]1O[C@H](CO)[C@@H](O)[C@...</td>\n",
       "      <td>9</td>\n",
       "      <td>5</td>\n",
       "      <td>7</td>\n",
       "      <td>119.61</td>\n",
       "      <td>1.000000</td>\n",
       "      <td>21</td>\n",
       "    </tr>\n",
       "    <tr>\n",
       "      <th>437</th>\n",
       "      <td>CC(=O)N[C@@H](CCCCNC(=S)NC1CCCCC1)C(=O)O</td>\n",
       "      <td>8</td>\n",
       "      <td>4</td>\n",
       "      <td>3</td>\n",
       "      <td>90.46</td>\n",
       "      <td>0.800000</td>\n",
       "      <td>22</td>\n",
       "    </tr>\n",
       "    <tr>\n",
       "      <th>2553</th>\n",
       "      <td>NC[C@H]1CC[C@H](NC(=O)C2(n3cnnn3)CCCCC2)CC1</td>\n",
       "      <td>4</td>\n",
       "      <td>2</td>\n",
       "      <td>6</td>\n",
       "      <td>98.72</td>\n",
       "      <td>0.866667</td>\n",
       "      <td>22</td>\n",
       "    </tr>\n",
       "    <tr>\n",
       "      <th>...</th>\n",
       "      <td>...</td>\n",
       "      <td>...</td>\n",
       "      <td>...</td>\n",
       "      <td>...</td>\n",
       "      <td>...</td>\n",
       "      <td>...</td>\n",
       "      <td>...</td>\n",
       "    </tr>\n",
       "    <tr>\n",
       "      <th>668</th>\n",
       "      <td>CCNC(=O)OC[C@@H]1CCCCN1Cc1ccc(N(C)C(C)C)nc1</td>\n",
       "      <td>7</td>\n",
       "      <td>1</td>\n",
       "      <td>5</td>\n",
       "      <td>57.70</td>\n",
       "      <td>0.684211</td>\n",
       "      <td>25</td>\n",
       "    </tr>\n",
       "    <tr>\n",
       "      <th>5080</th>\n",
       "      <td>NC(=O)CC1CCN(C(=O)/C=C/c2ccc(C(=O)O)cc2)CC1</td>\n",
       "      <td>5</td>\n",
       "      <td>2</td>\n",
       "      <td>3</td>\n",
       "      <td>100.70</td>\n",
       "      <td>0.352941</td>\n",
       "      <td>23</td>\n",
       "    </tr>\n",
       "    <tr>\n",
       "      <th>868</th>\n",
       "      <td>CC[C@H](CCO)CNC(=O)Cc1csc(Cc2ccccc2)n1</td>\n",
       "      <td>9</td>\n",
       "      <td>2</td>\n",
       "      <td>4</td>\n",
       "      <td>62.22</td>\n",
       "      <td>0.444444</td>\n",
       "      <td>23</td>\n",
       "    </tr>\n",
       "    <tr>\n",
       "      <th>8354</th>\n",
       "      <td>COC(C)(C)CCC[C@H](C)CCN1C[C@@H]2[C@@H](C1)C2(C...</td>\n",
       "      <td>10</td>\n",
       "      <td>2</td>\n",
       "      <td>4</td>\n",
       "      <td>52.93</td>\n",
       "      <td>1.000000</td>\n",
       "      <td>22</td>\n",
       "    </tr>\n",
       "    <tr>\n",
       "      <th>4838</th>\n",
       "      <td>CC(C)c1nc(CN2CCC(OCC3CCCC3)CC2)no1</td>\n",
       "      <td>6</td>\n",
       "      <td>0</td>\n",
       "      <td>5</td>\n",
       "      <td>51.39</td>\n",
       "      <td>0.882353</td>\n",
       "      <td>22</td>\n",
       "    </tr>\n",
       "  </tbody>\n",
       "</table>\n",
       "<p>250 rows × 7 columns</p>\n",
       "</div>"
      ],
      "text/plain": [
       "                                                 smiles  rb  hbd  hba    tpsa  \\\n",
       "8254      NCCCCCNC(=O)CCCC[C@H]1SC[C@@H]2NC(=O)N[C@H]21  10    4    4   96.25   \n",
       "2578  Cc1cc(=N[C@H]2CC[C@@H](C(=O)N3CCC(CO)CC3)CC2)[...   3    4    4  108.33   \n",
       "8771  CCCCC[C@@H](O)CCO[C@@H]1O[C@H](CO)[C@@H](O)[C@...   9    5    7  119.61   \n",
       "437            CC(=O)N[C@@H](CCCCNC(=S)NC1CCCCC1)C(=O)O   8    4    3   90.46   \n",
       "2553        NC[C@H]1CC[C@H](NC(=O)C2(n3cnnn3)CCCCC2)CC1   4    2    6   98.72   \n",
       "...                                                 ...  ..  ...  ...     ...   \n",
       "668         CCNC(=O)OC[C@@H]1CCCCN1Cc1ccc(N(C)C(C)C)nc1   7    1    5   57.70   \n",
       "5080        NC(=O)CC1CCN(C(=O)/C=C/c2ccc(C(=O)O)cc2)CC1   5    2    3  100.70   \n",
       "868              CC[C@H](CCO)CNC(=O)Cc1csc(Cc2ccccc2)n1   9    2    4   62.22   \n",
       "8354  COC(C)(C)CCC[C@H](C)CCN1C[C@@H]2[C@@H](C1)C2(C...  10    2    4   52.93   \n",
       "4838                 CC(C)c1nc(CN2CCC(OCC3CCCC3)CC2)no1   6    0    5   51.39   \n",
       "\n",
       "          fsp3  heavy  \n",
       "8254  0.866667     22  \n",
       "2578  0.722222     25  \n",
       "8771  1.000000     21  \n",
       "437   0.800000     22  \n",
       "2553  0.866667     22  \n",
       "...        ...    ...  \n",
       "668   0.684211     25  \n",
       "5080  0.352941     23  \n",
       "868   0.444444     23  \n",
       "8354  1.000000     22  \n",
       "4838  0.882353     22  \n",
       "\n",
       "[250 rows x 7 columns]"
      ]
     },
     "execution_count": 8,
     "metadata": {},
     "output_type": "execute_result"
    }
   ],
   "source": [
    "fa.df[['smiles', 'rb', 'hbd', 'hba', 'tpsa', 'fsp3', 'heavy']]"
   ]
  },
  {
   "cell_type": "code",
   "execution_count": 9,
   "id": "2e68455c-0609-40c4-96fe-5501ffb87f71",
   "metadata": {},
   "outputs": [],
   "source": [
    "fa.df[['smiles', 'zinc_id']].to_csv('filtered.smi', header=False, sep=' ', index=False)"
   ]
  },
  {
   "cell_type": "code",
   "execution_count": null,
   "id": "523528d2-ebbc-4cb9-9fc4-fd0fa422cdfd",
   "metadata": {},
   "outputs": [],
   "source": []
  }
 ],
 "metadata": {
  "kernelspec": {
   "display_name": "Python 3 (ipykernel)",
   "language": "python",
   "name": "python3"
  },
  "language_info": {
   "codemirror_mode": {
    "name": "ipython",
    "version": 3
   },
   "file_extension": ".py",
   "mimetype": "text/x-python",
   "name": "python",
   "nbconvert_exporter": "python",
   "pygments_lexer": "ipython3",
   "version": "3.9.6"
  }
 },
 "nbformat": 4,
 "nbformat_minor": 5
}
