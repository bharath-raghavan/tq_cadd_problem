{
 "cells": [
  {
   "cell_type": "markdown",
   "id": "788e44b2-b96c-440d-bddf-fc9224a4254f",
   "metadata": {},
   "source": [
    "# Dataset Preparation\n",
    "\n",
    "We start the ZINC20 database (https://zinc20.docking.org), a free database of commercially-available compounds for virtual screening. It is particulary attractive as it has many options to pre-filter ligands. We select molecules in this databased using the following conditions:\n",
    "\n",
    "* Those that are lead-like (Mol wt. in the range of 300-350 and logP values of -1 to 3.5). These are designed to be less complex, with lower molecular weight, lower lipophilicity, and fewer hydrogen bond donors and acceptors compared to final drug candidates, allowing for greater chemical modification during the lead optimization process.\n",
    "* Those are not just purchasable, but in-stock as well from major vendors.\n",
    "* And those that have standard reactivity.\n",
    "\n",
    "The SMILES data can be downloaded by running `download.wget`. "
   ]
  },
  {
   "cell_type": "code",
   "execution_count": 1,
   "id": "a91a34ee-135d-4981-8681-9f8040513630",
   "metadata": {
    "collapsed": true,
    "jupyter": {
     "outputs_hidden": true
    }
   },
   "outputs": [
    {
     "name": "stdout",
     "output_type": "stream",
     "text": [
      "URL transformed to HTTPS due to an HSTS policy\n",
      "--2025-10-25 09:41:29--  https://files.docking.org/2D/CA/CAAA.smi\n",
      "Resolving files.docking.org (files.docking.org)... 169.230.75.4\n",
      "Connecting to files.docking.org (files.docking.org)|169.230.75.4|:443... connected.\n",
      "HTTP request sent, awaiting response... 200 OK\n",
      "Length: 109570 (107K) [application/smil+xml]\n",
      "Saving to: ‘CA/CAAA.smi’\n",
      "\n",
      "CA/CAAA.smi         100%[===================>] 107.00K  --.-KB/s    in 0.1s    \n",
      "\n",
      "2025-10-25 09:41:29 (937 KB/s) - ‘CA/CAAA.smi’ saved [109570/109570]\n",
      "\n",
      "URL transformed to HTTPS due to an HSTS policy\n",
      "--2025-10-25 09:41:30--  https://files.docking.org/2D/CA/CAAB.smi\n",
      "Resolving files.docking.org (files.docking.org)... 169.230.75.4\n",
      "Connecting to files.docking.org (files.docking.org)|169.230.75.4|:443... connected.\n",
      "HTTP request sent, awaiting response... 200 OK\n",
      "Length: 249137 (243K) [application/smil+xml]\n",
      "Saving to: ‘CA/CAAB.smi’\n",
      "\n",
      "CA/CAAB.smi         100%[===================>] 243.30K  1009KB/s    in 0.2s    \n",
      "\n",
      "2025-10-25 09:41:30 (1009 KB/s) - ‘CA/CAAB.smi’ saved [249137/249137]\n",
      "\n",
      "URL transformed to HTTPS due to an HSTS policy\n",
      "--2025-10-25 09:41:30--  https://files.docking.org/2D/CA/CABA.smi\n",
      "Resolving files.docking.org (files.docking.org)... 169.230.75.4\n",
      "Connecting to files.docking.org (files.docking.org)|169.230.75.4|:443... connected.\n",
      "HTTP request sent, awaiting response... 200 OK\n",
      "Length: 1363 (1.3K) [application/smil+xml]\n",
      "Saving to: ‘CA/CABA.smi’\n",
      "\n",
      "CA/CABA.smi         100%[===================>]   1.33K  --.-KB/s    in 0s      \n",
      "\n",
      "2025-10-25 09:41:31 (18.3 MB/s) - ‘CA/CABA.smi’ saved [1363/1363]\n",
      "\n",
      "URL transformed to HTTPS due to an HSTS policy\n",
      "--2025-10-25 09:41:31--  https://files.docking.org/2D/CA/CABB.smi\n",
      "Resolving files.docking.org (files.docking.org)... 169.230.75.4\n",
      "Connecting to files.docking.org (files.docking.org)|169.230.75.4|:443... connected.\n",
      "HTTP request sent, awaiting response... ^C\n"
     ]
    }
   ],
   "source": [
    "!./download.wget"
   ]
  },
  {
   "cell_type": "markdown",
   "id": "f50581e9-920e-463c-9426-0e93e907359b",
   "metadata": {},
   "source": [
    "This gives us ~3.8 million molecules. We need to now filter them down into a few hundred through an intelligent process. Below, I describe the method I have used.\n",
    "\n",
    "All function to filter the molecules are given in the FilterAgent class. This class uses RDKit as its backend."
   ]
  },
  {
   "cell_type": "code",
   "execution_count": 2,
   "id": "240c31df-13e2-47c9-b563-5222ed639ef5",
   "metadata": {},
   "outputs": [],
   "source": [
    "from filteragent import FilterAgent"
   ]
  },
  {
   "cell_type": "code",
   "execution_count": 3,
   "id": "d773ccaf-662f-4a2b-a31c-70b5f2bbd3e1",
   "metadata": {},
   "outputs": [],
   "source": [
    "fa = FilterAgent('./')"
   ]
  },
  {
   "cell_type": "markdown",
   "id": "9421dfd3-c224-4ca9-a54b-7e1414ee2f74",
   "metadata": {},
   "source": [
    "The first step is to read the SMILES dataset and filter them based on the following properties:\n",
    "\n",
    "* The number of H-bond donors should be less than 5 and number of H-acceptors should be less than 10. Together with the  mol. wt. and lopP restrictions (imposed when downloading the dataset), these conditions ensure that the selected molecule obey Lipinski's rule of 5.\n",
    "* TPSA or Topological Polar Surface Area is a method for estimating a molecule's polarity. It is also a predictor of how well the molecule would be absorbed from the gastrointestinal tract or cross the blood-brain barrier. By Veber's rule, we select molecules with TPSA less than 140 Å².\n",
    "* FSP3 or fraction of sp3 carbon atoms in the molecule, this is a measure of '3D-ness' of the molecule. We look for molecules with FSP3 greater than 0.12, or at least those that are not completely flat. Considering that the co-ligand is quite far away from being flat, this is an important filtering criterion.\n",
    "* Limit maximum number of heavy atoms in molecule to 50, so that very large molecules are filtered out.\n",
    "\n",
    "Rotation bonds stuff..\n",
    "\n",
    "This is done by calling the following funtion:"
   ]
  },
  {
   "cell_type": "code",
   "execution_count": 4,
   "id": "0c8305d7-1fc9-4007-9b79-ee25ba13c5f2",
   "metadata": {},
   "outputs": [
    {
     "data": {
      "application/vnd.jupyter.widget-view+json": {
       "model_id": "ec8d12b71f654e5c8320dadb191799c5",
       "version_major": 2,
       "version_minor": 0
      },
      "text/plain": [
       "Step 1. Read and pre-filtering dataset based on physical properties:   0%|          | 0/3856397 [00:00<?, ?it/…"
      ]
     },
     "metadata": {},
     "output_type": "display_data"
    },
    {
     "name": "stdout",
     "output_type": "stream",
     "text": [
      "Filtering..\n"
     ]
    }
   ],
   "source": [
    "df = fa.step1()"
   ]
  },
  {
   "cell_type": "markdown",
   "id": "7d7730bd-74be-4b82-b89c-3c083511a0f4",
   "metadata": {},
   "source": [
    "The subsequent steps require comparision with the co-ligand. So, the SDF file is downloaded from the RCSB database:"
   ]
  },
  {
   "cell_type": "code",
   "execution_count": 5,
   "id": "b9d7c3a3-6a06-4fb8-965b-ebdc6e305127",
   "metadata": {},
   "outputs": [
    {
     "name": "stdout",
     "output_type": "stream",
     "text": [
      "--2025-10-25 09:54:34--  https://models.rcsb.org/v1/1ppb/ligand?auth_seq_id=1&label_asym_id=C&encoding=sdf&filename=1ppb_C_0G6.sdf\n",
      "Resolving models.rcsb.org (models.rcsb.org)... 128.6.158.175\n",
      "Connecting to models.rcsb.org (models.rcsb.org)|128.6.158.175|:443... connected.\n",
      "HTTP request sent, awaiting response... 200 OK\n",
      "Length: 3498 (3.4K) [text/plain]\n",
      "Saving to: ‘1ppb_C_0G6.sdf’\n",
      "\n",
      "1ppb_C_0G6.sdf      100%[===================>]   3.42K  --.-KB/s    in 0s      \n",
      "\n",
      "2025-10-25 09:54:35 (12.2 MB/s) - ‘1ppb_C_0G6.sdf’ saved [3498/3498]\n",
      "\n"
     ]
    },
    {
     "name": "stderr",
     "output_type": "stream",
     "text": [
      "[09:54:35] Warning: molecule is tagged as 2D, but at least one Z coordinate is not zero. Marking the mol as 3D.\n"
     ]
    }
   ],
   "source": [
    "!wget -O 1ppb_C_0G6.sdf 'https://models.rcsb.org/v1/1ppb/ligand?auth_seq_id=1&label_asym_id=C&encoding=sdf&filename=1ppb_C_0G6.sdf'\n",
    "from rdkit import Chem\n",
    "lig_0g6 = Chem.SDMolSupplier('1ppb_C_0G6.sdf')[0]"
   ]
  },
  {
   "cell_type": "markdown",
   "id": "cad8d916-72e6-4dcf-8e12-6c99aaf3e5e9",
   "metadata": {},
   "source": [
    "Now we perform the main filteration step. We would like to reduce our dataset, while still maintaining chemical/structural diversity to get meaningfull docking results. At the same time, we would like a balance of molecules that are both analogs and dissimilar to the co-ligand.\n",
    "\n",
    "To achieve, I use the following cheminformatics methods:\n",
    "* Morgan fingerprints: A fingerprint captures the atomic enviornment/structure of a molecule as a bit vector. There are many methods, but Morgan fingerprints is the most common and is used here.\n",
    "* Tanimoto similarity is a metric that quantifies the similarity between two sets or vectors by returning a number between 0 and 1. It is commonly used to measure the similarity of two chemical fingerprints.\n",
    "* Butina clustering (J. Chem. Inf. Model. (1999), 39 (4), 747) is used to cluster molecules based on their Tanimoto similarities. It can identify homogeneous clusters, with the prerequisite that (at least) the cluster centroid will be more similar than a given threshold to every other molecule in the cluster.\n",
    "\n",
    "First, the Tanimoto similarity of each molecule with the co-ligand is calculated. Those that are in the top 10% similarity with co-ligand are classed as analogs, and the rest are non-analogs. Each of these are internally clustered by:\n",
    "\n",
    "1. Calculating the similarity with each other.\n",
    "2. Performing Butina clustering, where molecules with at least 30 % similarity with each other in the non-analogs are grouped together, and those with 50% similarity are grouped together in the analogs' set.\n",
    "3. Choose one representative per cluster; pick the molecule with the maximum sum of similarities to others in cluster. This is the representative of the cluster.\n",
    "\n",
    "The values of 30% and 50% similarities will lead to large clusters. This is done to aggressively reduce the dataset, but in a real CADD campaign, we can be more conservative.\n",
    "\n",
    "This procedure is done below, and leads to 2493 compounds."
   ]
  },
  {
   "cell_type": "code",
   "execution_count": 6,
   "id": "fb61c102-4c20-44c7-af55-641399d1fbff",
   "metadata": {},
   "outputs": [
    {
     "name": "stdout",
     "output_type": "stream",
     "text": [
      "Step 2. Remove similar ligands\n"
     ]
    },
    {
     "data": {
      "application/vnd.jupyter.widget-view+json": {
       "model_id": "e5cc9eef0e424d86ad58d623ae5c9782",
       "version_major": 2,
       "version_minor": 0
      },
      "text/plain": [
       "Calculating fingerprints:   0%|          | 0/10000 [00:00<?, ?it/s]"
      ]
     },
     "metadata": {},
     "output_type": "display_data"
    },
    {
     "name": "stdout",
     "output_type": "stream",
     "text": [
      "Separate into analogs and non-analogs of co-ligand\n",
      "Number of analogs: 1000, the rest: 9000\n",
      "Clustering non-analogs\n"
     ]
    },
    {
     "data": {
      "application/vnd.jupyter.widget-view+json": {
       "model_id": "5ae3542d58e642f2836685310761e539",
       "version_major": 2,
       "version_minor": 0
      },
      "text/plain": [
       "Calculating similarity:   0%|          | 0/8999 [00:00<?, ?it/s]"
      ]
     },
     "metadata": {},
     "output_type": "display_data"
    },
    {
     "name": "stdout",
     "output_type": "stream",
     "text": [
      "Performing clustering\n",
      "Clustering analogs\n"
     ]
    },
    {
     "data": {
      "application/vnd.jupyter.widget-view+json": {
       "model_id": "b7532953e38440c6911871385faca9b4",
       "version_major": 2,
       "version_minor": 0
      },
      "text/plain": [
       "Calculating similarity:   0%|          | 0/999 [00:00<?, ?it/s]"
      ]
     },
     "metadata": {},
     "output_type": "display_data"
    },
    {
     "name": "stdout",
     "output_type": "stream",
     "text": [
      "Performing clustering\n"
     ]
    }
   ],
   "source": [
    "fa.step2(lig_0g6)"
   ]
  },
  {
   "cell_type": "markdown",
   "id": "8bc63083-7cf5-4c32-87f9-7313080f2265",
   "metadata": {},
   "source": [
    "Our dataset is now structurally diverse, with both analogs and non-analogs of the co-ligand. However, this does not tell us anything about the interactions these molecules can take part in (H-bonds, salt bridges, etc.). We would like to dock compounds that have some level of similar interaction features as the co-ligand, as those that do not would most likely not dock to the receptor.\n",
    "\n",
    "We can filter for this using pharmacophore analysis. A pharmacophore encodes spatial relationships between features like H-bond donors, acceptors, hydrophobes, aromatics, etc. It focuses on function, rather than structure (like Morgan fingerprints). This is most often done using Schrodinger's toolset, which gives a rich set of 3D pharmacophores and easy way to compare them across a wide set of ligands. And this is the tool that I have used in previous CADD campagins. However, since we restrict ourselves to open-source software, I will continue with RDKit. RDKit exposes the 2D pharmacophore fingerprints by Gobbi and Poppinger (Gobbi, A. & Poppinger, D. Biotechnology and Bioengineering 61:47-54 (1998).). This is used to measure the similarity in pharmacophore's between the co-ligand and the dataset, with the following function call:"
   ]
  },
  {
   "cell_type": "code",
   "execution_count": 7,
   "id": "612b95f1-0602-4119-8881-4c492eff6c37",
   "metadata": {},
   "outputs": [
    {
     "data": {
      "application/vnd.jupyter.widget-view+json": {
       "model_id": "9df4d1fc6b204969ac636ee01dfa53e4",
       "version_major": 2,
       "version_minor": 0
      },
      "text/plain": [
       "Step 3. Pharmacopohore screening:   0%|          | 0/2493 [00:00<?, ?it/s]"
      ]
     },
     "metadata": {},
     "output_type": "display_data"
    }
   ],
   "source": [
    "fa.step3(lig_0g6)"
   ]
  },
  {
   "cell_type": "markdown",
   "id": "5da9d463-8353-450d-849a-23065b113847",
   "metadata": {},
   "source": [
    "The top 250 are the stored in the `df` property of the `FilterAgent` object.\n",
    "Here you can see that the number of H-bond donors and acceptors, the TPSA, FSP3 and number of heavy atoms are within the limits we set.\n",
    "\n",
    "We also write the Dataframe to a `.smi` file for docking."
   ]
  },
  {
   "cell_type": "code",
   "execution_count": 8,
   "id": "973468a0-1699-4157-b75c-1eafcaf046bd",
   "metadata": {},
   "outputs": [
    {
     "data": {
      "text/html": [
       "<div>\n",
       "<style scoped>\n",
       "    .dataframe tbody tr th:only-of-type {\n",
       "        vertical-align: middle;\n",
       "    }\n",
       "\n",
       "    .dataframe tbody tr th {\n",
       "        vertical-align: top;\n",
       "    }\n",
       "\n",
       "    .dataframe thead th {\n",
       "        text-align: right;\n",
       "    }\n",
       "</style>\n",
       "<table border=\"1\" class=\"dataframe\">\n",
       "  <thead>\n",
       "    <tr style=\"text-align: right;\">\n",
       "      <th></th>\n",
       "      <th>smiles</th>\n",
       "      <th>rb</th>\n",
       "      <th>hbd</th>\n",
       "      <th>hba</th>\n",
       "      <th>tpsa</th>\n",
       "      <th>fsp3</th>\n",
       "      <th>heavy</th>\n",
       "    </tr>\n",
       "  </thead>\n",
       "  <tbody>\n",
       "    <tr>\n",
       "      <th>8254</th>\n",
       "      <td>NCCCCCNC(=O)CCCC[C@H]1SC[C@@H]2NC(=O)N[C@H]21</td>\n",
       "      <td>10</td>\n",
       "      <td>4</td>\n",
       "      <td>4</td>\n",
       "      <td>96.25</td>\n",
       "      <td>0.866667</td>\n",
       "      <td>22</td>\n",
       "    </tr>\n",
       "    <tr>\n",
       "      <th>2578</th>\n",
       "      <td>Cc1cc(=N[C@H]2CC[C@@H](C(=O)N3CCC(CO)CC3)CC2)[...</td>\n",
       "      <td>3</td>\n",
       "      <td>4</td>\n",
       "      <td>4</td>\n",
       "      <td>108.33</td>\n",
       "      <td>0.722222</td>\n",
       "      <td>25</td>\n",
       "    </tr>\n",
       "    <tr>\n",
       "      <th>8771</th>\n",
       "      <td>CCCCC[C@@H](O)CCO[C@@H]1O[C@H](CO)[C@@H](O)[C@...</td>\n",
       "      <td>9</td>\n",
       "      <td>5</td>\n",
       "      <td>7</td>\n",
       "      <td>119.61</td>\n",
       "      <td>1.000000</td>\n",
       "      <td>21</td>\n",
       "    </tr>\n",
       "    <tr>\n",
       "      <th>437</th>\n",
       "      <td>CC(=O)N[C@@H](CCCCNC(=S)NC1CCCCC1)C(=O)O</td>\n",
       "      <td>8</td>\n",
       "      <td>4</td>\n",
       "      <td>3</td>\n",
       "      <td>90.46</td>\n",
       "      <td>0.800000</td>\n",
       "      <td>22</td>\n",
       "    </tr>\n",
       "    <tr>\n",
       "      <th>2553</th>\n",
       "      <td>NC[C@H]1CC[C@H](NC(=O)C2(n3cnnn3)CCCCC2)CC1</td>\n",
       "      <td>4</td>\n",
       "      <td>2</td>\n",
       "      <td>6</td>\n",
       "      <td>98.72</td>\n",
       "      <td>0.866667</td>\n",
       "      <td>22</td>\n",
       "    </tr>\n",
       "    <tr>\n",
       "      <th>...</th>\n",
       "      <td>...</td>\n",
       "      <td>...</td>\n",
       "      <td>...</td>\n",
       "      <td>...</td>\n",
       "      <td>...</td>\n",
       "      <td>...</td>\n",
       "      <td>...</td>\n",
       "    </tr>\n",
       "    <tr>\n",
       "      <th>668</th>\n",
       "      <td>CCNC(=O)OC[C@@H]1CCCCN1Cc1ccc(N(C)C(C)C)nc1</td>\n",
       "      <td>7</td>\n",
       "      <td>1</td>\n",
       "      <td>5</td>\n",
       "      <td>57.70</td>\n",
       "      <td>0.684211</td>\n",
       "      <td>25</td>\n",
       "    </tr>\n",
       "    <tr>\n",
       "      <th>5080</th>\n",
       "      <td>NC(=O)CC1CCN(C(=O)/C=C/c2ccc(C(=O)O)cc2)CC1</td>\n",
       "      <td>5</td>\n",
       "      <td>2</td>\n",
       "      <td>3</td>\n",
       "      <td>100.70</td>\n",
       "      <td>0.352941</td>\n",
       "      <td>23</td>\n",
       "    </tr>\n",
       "    <tr>\n",
       "      <th>868</th>\n",
       "      <td>CC[C@H](CCO)CNC(=O)Cc1csc(Cc2ccccc2)n1</td>\n",
       "      <td>9</td>\n",
       "      <td>2</td>\n",
       "      <td>4</td>\n",
       "      <td>62.22</td>\n",
       "      <td>0.444444</td>\n",
       "      <td>23</td>\n",
       "    </tr>\n",
       "    <tr>\n",
       "      <th>8354</th>\n",
       "      <td>COC(C)(C)CCC[C@H](C)CCN1C[C@@H]2[C@@H](C1)C2(C...</td>\n",
       "      <td>10</td>\n",
       "      <td>2</td>\n",
       "      <td>4</td>\n",
       "      <td>52.93</td>\n",
       "      <td>1.000000</td>\n",
       "      <td>22</td>\n",
       "    </tr>\n",
       "    <tr>\n",
       "      <th>4838</th>\n",
       "      <td>CC(C)c1nc(CN2CCC(OCC3CCCC3)CC2)no1</td>\n",
       "      <td>6</td>\n",
       "      <td>0</td>\n",
       "      <td>5</td>\n",
       "      <td>51.39</td>\n",
       "      <td>0.882353</td>\n",
       "      <td>22</td>\n",
       "    </tr>\n",
       "  </tbody>\n",
       "</table>\n",
       "<p>250 rows × 7 columns</p>\n",
       "</div>"
      ],
      "text/plain": [
       "                                                 smiles  rb  hbd  hba    tpsa  \\\n",
       "8254      NCCCCCNC(=O)CCCC[C@H]1SC[C@@H]2NC(=O)N[C@H]21  10    4    4   96.25   \n",
       "2578  Cc1cc(=N[C@H]2CC[C@@H](C(=O)N3CCC(CO)CC3)CC2)[...   3    4    4  108.33   \n",
       "8771  CCCCC[C@@H](O)CCO[C@@H]1O[C@H](CO)[C@@H](O)[C@...   9    5    7  119.61   \n",
       "437            CC(=O)N[C@@H](CCCCNC(=S)NC1CCCCC1)C(=O)O   8    4    3   90.46   \n",
       "2553        NC[C@H]1CC[C@H](NC(=O)C2(n3cnnn3)CCCCC2)CC1   4    2    6   98.72   \n",
       "...                                                 ...  ..  ...  ...     ...   \n",
       "668         CCNC(=O)OC[C@@H]1CCCCN1Cc1ccc(N(C)C(C)C)nc1   7    1    5   57.70   \n",
       "5080        NC(=O)CC1CCN(C(=O)/C=C/c2ccc(C(=O)O)cc2)CC1   5    2    3  100.70   \n",
       "868              CC[C@H](CCO)CNC(=O)Cc1csc(Cc2ccccc2)n1   9    2    4   62.22   \n",
       "8354  COC(C)(C)CCC[C@H](C)CCN1C[C@@H]2[C@@H](C1)C2(C...  10    2    4   52.93   \n",
       "4838                 CC(C)c1nc(CN2CCC(OCC3CCCC3)CC2)no1   6    0    5   51.39   \n",
       "\n",
       "          fsp3  heavy  \n",
       "8254  0.866667     22  \n",
       "2578  0.722222     25  \n",
       "8771  1.000000     21  \n",
       "437   0.800000     22  \n",
       "2553  0.866667     22  \n",
       "...        ...    ...  \n",
       "668   0.684211     25  \n",
       "5080  0.352941     23  \n",
       "868   0.444444     23  \n",
       "8354  1.000000     22  \n",
       "4838  0.882353     22  \n",
       "\n",
       "[250 rows x 7 columns]"
      ]
     },
     "execution_count": 8,
     "metadata": {},
     "output_type": "execute_result"
    }
   ],
   "source": [
    "fa.df[['smiles', 'rb', 'hbd', 'hba', 'tpsa', 'fsp3', 'heavy']]"
   ]
  },
  {
   "cell_type": "markdown",
   "id": "be791179-957c-4130-9451-34a24a9b59ed",
   "metadata": {},
   "source": ["ABC"]
  },
  {
   "cell_type": "code",
   "execution_count": 10,
   "id": "523528d2-ebbc-4cb9-9fc4-fd0fa422cdfd",
   "metadata": {},
   "outputs": [
    {
     "data": {
      "text/plain": [
       "(array([ 5., 37., 16., 45., 31., 23., 40., 12., 34.,  7.]),\n",
       " array([ 1. ,  1.9,  2.8,  3.7,  4.6,  5.5,  6.4,  7.3,  8.2,  9.1, 10. ]),\n",
       " <BarContainer object of 10 artists>)"
      ]
     },
     "execution_count": 10,
     "metadata": {},
     "output_type": "execute_result"
    },
    {
     "data": {
      "application/vnd.jupyter.widget-view+json": {
       "model_id": "680818bc7c6b4b82af3f0e8f7bf0f0ec",
       "version_major": 2,
       "version_minor": 0
      },
      "image/png": "[encoded data removed]",
      "text/html": [
       "\n",
       "            <div style=\"display: inline-block;\">\n",
       "                <div class=\"jupyter-widgets widget-label\" style=\"text-align: center;\">\n",
       "                    Figure\n",
       "                </div>\n",
       "                <img src='data:image/png;base64,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' width=640.0/>\n",
       "            </div>\n",
       "        "
      ],
      "text/plain": [
       "Canvas(toolbar=Toolbar(toolitems=[('Home', 'Reset original view', 'home', 'home'), ('Back', 'Back to previous …"
      ]
     },
     "metadata": {},
     "output_type": "display_data"
    }
   ],
   "source": [
    "%matplotlib widget\n",
    "import matplotlib.pyplot as plt\n",
    "\n",
    "plt.hist(fa.df['rb'])"
   ]
  },
  {
   "cell_type": "code",
   "execution_count": 9,
   "id": "2e68455c-0609-40c4-96fe-5501ffb87f71",
   "metadata": {},
   "outputs": [],
   "source": [
    "fa.df[['smiles', 'zinc_id']].to_csv('filtered.smi', header=False, sep=' ', index=False)"
   ]
  },
  {
   "cell_type": "code",
   "execution_count": null,
   "id": "dda207cb-13c7-4b76-9788-402fcdcc1022",
   "metadata": {},
   "outputs": [],
   "source": []
  }
 ],
 "metadata": {
  "kernelspec": {
   "display_name": "Python 3 (ipykernel)",
   "language": "python",
   "name": "python3"
  },
  "language_info": {
   "codemirror_mode": {
    "name": "ipython",
    "version": 3
   },
   "file_extension": ".py",
   "mimetype": "text/x-python",
   "name": "python",
   "nbconvert_exporter": "python",
   "pygments_lexer": "ipython3",
   "version": "3.9.6"
  }
 },
 "nbformat": 4,
 "nbformat_minor": 5
}
